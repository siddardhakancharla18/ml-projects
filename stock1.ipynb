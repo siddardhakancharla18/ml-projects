{
 "cells": [
  {
   "cell_type": "code",
   "execution_count": 87,
   "id": "36a047d9-85a2-4773-ad70-70e1ba5a6856",
   "metadata": {},
   "outputs": [],
   "source": [
    "import numpy as np\n",
    "import pandas as pd\n",
    "import matplotlib.pyplot as plt\n",
    "import seaborn as sns\n",
    "from sklearn.model_selection import train_test_split\n",
    "import warnings\n",
    "warnings.filterwarnings('ignore')"
   ]
  },
  {
   "cell_type": "code",
   "execution_count": 88,
   "id": "27d88ee5-8505-4867-9631-ee8c57e4ab43",
   "metadata": {},
   "outputs": [],
   "source": [
    "data = pd.read_csv('stock.csv')"
   ]
  },
  {
   "cell_type": "code",
   "execution_count": 89,
   "id": "26b2ac28-f6bb-41ae-8db6-50c6cbdfb416",
   "metadata": {},
   "outputs": [
    {
     "data": {
      "text/html": [
       "<div>\n",
       "<style scoped>\n",
       "    .dataframe tbody tr th:only-of-type {\n",
       "        vertical-align: middle;\n",
       "    }\n",
       "\n",
       "    .dataframe tbody tr th {\n",
       "        vertical-align: top;\n",
       "    }\n",
       "\n",
       "    .dataframe thead th {\n",
       "        text-align: right;\n",
       "    }\n",
       "</style>\n",
       "<table border=\"1\" class=\"dataframe\">\n",
       "  <thead>\n",
       "    <tr style=\"text-align: right;\">\n",
       "      <th></th>\n",
       "      <th>date</th>\n",
       "      <th>open</th>\n",
       "      <th>high</th>\n",
       "      <th>low</th>\n",
       "      <th>close</th>\n",
       "      <th>volume</th>\n",
       "      <th>Name</th>\n",
       "    </tr>\n",
       "  </thead>\n",
       "  <tbody>\n",
       "    <tr>\n",
       "      <th>0</th>\n",
       "      <td>2013-02-08</td>\n",
       "      <td>15.07</td>\n",
       "      <td>15.12</td>\n",
       "      <td>14.63</td>\n",
       "      <td>14.75</td>\n",
       "      <td>8407500</td>\n",
       "      <td>AAL</td>\n",
       "    </tr>\n",
       "    <tr>\n",
       "      <th>1</th>\n",
       "      <td>2013-02-11</td>\n",
       "      <td>14.89</td>\n",
       "      <td>15.01</td>\n",
       "      <td>14.26</td>\n",
       "      <td>14.46</td>\n",
       "      <td>8882000</td>\n",
       "      <td>AAL</td>\n",
       "    </tr>\n",
       "    <tr>\n",
       "      <th>2</th>\n",
       "      <td>2013-02-12</td>\n",
       "      <td>14.45</td>\n",
       "      <td>14.51</td>\n",
       "      <td>14.10</td>\n",
       "      <td>14.27</td>\n",
       "      <td>8126000</td>\n",
       "      <td>AAL</td>\n",
       "    </tr>\n",
       "    <tr>\n",
       "      <th>3</th>\n",
       "      <td>2013-02-13</td>\n",
       "      <td>14.30</td>\n",
       "      <td>14.94</td>\n",
       "      <td>14.25</td>\n",
       "      <td>14.66</td>\n",
       "      <td>10259500</td>\n",
       "      <td>AAL</td>\n",
       "    </tr>\n",
       "    <tr>\n",
       "      <th>4</th>\n",
       "      <td>2013-02-14</td>\n",
       "      <td>14.94</td>\n",
       "      <td>14.96</td>\n",
       "      <td>13.16</td>\n",
       "      <td>13.99</td>\n",
       "      <td>31879900</td>\n",
       "      <td>AAL</td>\n",
       "    </tr>\n",
       "  </tbody>\n",
       "</table>\n",
       "</div>"
      ],
      "text/plain": [
       "         date   open   high    low  close    volume Name\n",
       "0  2013-02-08  15.07  15.12  14.63  14.75   8407500  AAL\n",
       "1  2013-02-11  14.89  15.01  14.26  14.46   8882000  AAL\n",
       "2  2013-02-12  14.45  14.51  14.10  14.27   8126000  AAL\n",
       "3  2013-02-13  14.30  14.94  14.25  14.66  10259500  AAL\n",
       "4  2013-02-14  14.94  14.96  13.16  13.99  31879900  AAL"
      ]
     },
     "execution_count": 89,
     "metadata": {},
     "output_type": "execute_result"
    }
   ],
   "source": [
    "data.head()"
   ]
  },
  {
   "cell_type": "code",
   "execution_count": 90,
   "id": "b08c10b9-e9a2-458d-9915-8cc09eb09c82",
   "metadata": {},
   "outputs": [
    {
     "data": {
      "text/plain": [
       "(619040, 7)"
      ]
     },
     "execution_count": 90,
     "metadata": {},
     "output_type": "execute_result"
    }
   ],
   "source": [
    "data.shape"
   ]
  },
  {
   "cell_type": "code",
   "execution_count": 91,
   "id": "56570d55-04aa-4166-b5d1-c10cfd0ae3eb",
   "metadata": {},
   "outputs": [
    {
     "data": {
      "text/html": [
       "<div>\n",
       "<style scoped>\n",
       "    .dataframe tbody tr th:only-of-type {\n",
       "        vertical-align: middle;\n",
       "    }\n",
       "\n",
       "    .dataframe tbody tr th {\n",
       "        vertical-align: top;\n",
       "    }\n",
       "\n",
       "    .dataframe thead th {\n",
       "        text-align: right;\n",
       "    }\n",
       "</style>\n",
       "<table border=\"1\" class=\"dataframe\">\n",
       "  <thead>\n",
       "    <tr style=\"text-align: right;\">\n",
       "      <th></th>\n",
       "      <th>open</th>\n",
       "      <th>high</th>\n",
       "      <th>low</th>\n",
       "      <th>close</th>\n",
       "      <th>volume</th>\n",
       "    </tr>\n",
       "  </thead>\n",
       "  <tbody>\n",
       "    <tr>\n",
       "      <th>count</th>\n",
       "      <td>619029.000000</td>\n",
       "      <td>619032.000000</td>\n",
       "      <td>619032.000000</td>\n",
       "      <td>619040.000000</td>\n",
       "      <td>6.190400e+05</td>\n",
       "    </tr>\n",
       "    <tr>\n",
       "      <th>mean</th>\n",
       "      <td>83.023334</td>\n",
       "      <td>83.778311</td>\n",
       "      <td>82.256096</td>\n",
       "      <td>83.043763</td>\n",
       "      <td>4.321823e+06</td>\n",
       "    </tr>\n",
       "    <tr>\n",
       "      <th>std</th>\n",
       "      <td>97.378769</td>\n",
       "      <td>98.207519</td>\n",
       "      <td>96.507421</td>\n",
       "      <td>97.389748</td>\n",
       "      <td>8.693610e+06</td>\n",
       "    </tr>\n",
       "    <tr>\n",
       "      <th>min</th>\n",
       "      <td>1.620000</td>\n",
       "      <td>1.690000</td>\n",
       "      <td>1.500000</td>\n",
       "      <td>1.590000</td>\n",
       "      <td>0.000000e+00</td>\n",
       "    </tr>\n",
       "    <tr>\n",
       "      <th>25%</th>\n",
       "      <td>40.220000</td>\n",
       "      <td>40.620000</td>\n",
       "      <td>39.830000</td>\n",
       "      <td>40.245000</td>\n",
       "      <td>1.070320e+06</td>\n",
       "    </tr>\n",
       "    <tr>\n",
       "      <th>50%</th>\n",
       "      <td>62.590000</td>\n",
       "      <td>63.150000</td>\n",
       "      <td>62.020000</td>\n",
       "      <td>62.620000</td>\n",
       "      <td>2.082094e+06</td>\n",
       "    </tr>\n",
       "    <tr>\n",
       "      <th>75%</th>\n",
       "      <td>94.370000</td>\n",
       "      <td>95.180000</td>\n",
       "      <td>93.540000</td>\n",
       "      <td>94.410000</td>\n",
       "      <td>4.284509e+06</td>\n",
       "    </tr>\n",
       "    <tr>\n",
       "      <th>max</th>\n",
       "      <td>2044.000000</td>\n",
       "      <td>2067.990000</td>\n",
       "      <td>2035.110000</td>\n",
       "      <td>2049.000000</td>\n",
       "      <td>6.182376e+08</td>\n",
       "    </tr>\n",
       "  </tbody>\n",
       "</table>\n",
       "</div>"
      ],
      "text/plain": [
       "                open           high            low          close  \\\n",
       "count  619029.000000  619032.000000  619032.000000  619040.000000   \n",
       "mean       83.023334      83.778311      82.256096      83.043763   \n",
       "std        97.378769      98.207519      96.507421      97.389748   \n",
       "min         1.620000       1.690000       1.500000       1.590000   \n",
       "25%        40.220000      40.620000      39.830000      40.245000   \n",
       "50%        62.590000      63.150000      62.020000      62.620000   \n",
       "75%        94.370000      95.180000      93.540000      94.410000   \n",
       "max      2044.000000    2067.990000    2035.110000    2049.000000   \n",
       "\n",
       "             volume  \n",
       "count  6.190400e+05  \n",
       "mean   4.321823e+06  \n",
       "std    8.693610e+06  \n",
       "min    0.000000e+00  \n",
       "25%    1.070320e+06  \n",
       "50%    2.082094e+06  \n",
       "75%    4.284509e+06  \n",
       "max    6.182376e+08  "
      ]
     },
     "execution_count": 91,
     "metadata": {},
     "output_type": "execute_result"
    }
   ],
   "source": [
    "data.describe()"
   ]
  },
  {
   "cell_type": "code",
   "execution_count": 92,
   "id": "3a2f1c90-c269-45ed-baf1-897e4200a636",
   "metadata": {},
   "outputs": [],
   "source": [
    "data['date'] = pd.to_datetime(data['date'])"
   ]
  },
  {
   "cell_type": "code",
   "execution_count": 93,
   "id": "fe3c6ec3-7075-4912-9f42-2b512b0f4637",
   "metadata": {},
   "outputs": [],
   "source": [
    "data['month'] = data['date'].dt.month\n",
    "data['day'] = data['date'].dt.day\n",
    "data['day_of_week'] = data['date'].dt.dayofweek"
   ]
  },
  {
   "cell_type": "code",
   "execution_count": 94,
   "id": "3265e88a-aa38-49be-9450-b51cdcd5dc87",
   "metadata": {},
   "outputs": [],
   "source": [
    "data['month_sin'] = np.sin(2 * np.pi * data['month'] / 12)\n",
    "data['month_cos'] = np.cos(2 * np.pi * data['month'] / 12)\n",
    "data['day_sin'] = np.sin(2 * np.pi * data['day'] / 31)\n",
    "data['day_cos'] = np.cos(2 * np.pi * data['day'] / 31)\n",
    "data['dow_sin'] = np.sin(2 * np.pi * data['day_of_week'] / 7)\n",
    "data['dow_cos'] = np.cos(2 * np.pi * data['day_of_week'] / 7)"
   ]
  },
  {
   "cell_type": "code",
   "execution_count": 95,
   "id": "bc214b59-a2a4-4528-9ad8-d83075ce79bc",
   "metadata": {},
   "outputs": [],
   "source": [
    "data = data.drop(columns = ['date','month','day','day_of_week'])"
   ]
  },
  {
   "cell_type": "code",
   "execution_count": 96,
   "id": "97dc8e2f-0313-4c0f-9c17-f0e1e47a2af7",
   "metadata": {},
   "outputs": [
    {
     "data": {
      "text/plain": [
       "open         11\n",
       "high          8\n",
       "low           8\n",
       "close         0\n",
       "volume        0\n",
       "Name          0\n",
       "month_sin     0\n",
       "month_cos     0\n",
       "day_sin       0\n",
       "day_cos       0\n",
       "dow_sin       0\n",
       "dow_cos       0\n",
       "dtype: int64"
      ]
     },
     "execution_count": 96,
     "metadata": {},
     "output_type": "execute_result"
    }
   ],
   "source": [
    "data.isna().sum()"
   ]
  },
  {
   "cell_type": "code",
   "execution_count": 97,
   "id": "6246947c-f8ef-405b-91bc-3b3d6d20242d",
   "metadata": {},
   "outputs": [],
   "source": [
    "data = data.dropna()"
   ]
  },
  {
   "cell_type": "code",
   "execution_count": 98,
   "id": "9df13238-d546-4e04-b1bb-99c4ac58c979",
   "metadata": {},
   "outputs": [
    {
     "data": {
      "text/plain": [
       "open         0\n",
       "high         0\n",
       "low          0\n",
       "close        0\n",
       "volume       0\n",
       "Name         0\n",
       "month_sin    0\n",
       "month_cos    0\n",
       "day_sin      0\n",
       "day_cos      0\n",
       "dow_sin      0\n",
       "dow_cos      0\n",
       "dtype: int64"
      ]
     },
     "execution_count": 98,
     "metadata": {},
     "output_type": "execute_result"
    }
   ],
   "source": [
    "data.isna().sum()"
   ]
  },
  {
   "cell_type": "code",
   "execution_count": 99,
   "id": "0ca9ce1c-e14a-4e2a-b4b5-581d46926457",
   "metadata": {},
   "outputs": [],
   "source": [
    "from sklearn.preprocessing import LabelEncoder"
   ]
  },
  {
   "cell_type": "code",
   "execution_count": 100,
   "id": "2c3eca13-411d-493e-a88c-886906fae3b5",
   "metadata": {},
   "outputs": [],
   "source": [
    "le = LabelEncoder()\n",
    "data['Name'] = le.fit_transform(data['Name'])"
   ]
  },
  {
   "cell_type": "code",
   "execution_count": 101,
   "id": "b7dbae45-398f-48ad-8868-faefa34b3d6f",
   "metadata": {},
   "outputs": [
    {
     "data": {
      "text/html": [
       "<div>\n",
       "<style scoped>\n",
       "    .dataframe tbody tr th:only-of-type {\n",
       "        vertical-align: middle;\n",
       "    }\n",
       "\n",
       "    .dataframe tbody tr th {\n",
       "        vertical-align: top;\n",
       "    }\n",
       "\n",
       "    .dataframe thead th {\n",
       "        text-align: right;\n",
       "    }\n",
       "</style>\n",
       "<table border=\"1\" class=\"dataframe\">\n",
       "  <thead>\n",
       "    <tr style=\"text-align: right;\">\n",
       "      <th></th>\n",
       "      <th>open</th>\n",
       "      <th>high</th>\n",
       "      <th>low</th>\n",
       "      <th>close</th>\n",
       "      <th>volume</th>\n",
       "      <th>Name</th>\n",
       "      <th>month_sin</th>\n",
       "      <th>month_cos</th>\n",
       "      <th>day_sin</th>\n",
       "      <th>day_cos</th>\n",
       "      <th>dow_sin</th>\n",
       "      <th>dow_cos</th>\n",
       "    </tr>\n",
       "  </thead>\n",
       "  <tbody>\n",
       "    <tr>\n",
       "      <th>count</th>\n",
       "      <td>619029.000000</td>\n",
       "      <td>619029.000000</td>\n",
       "      <td>619029.000000</td>\n",
       "      <td>619029.000000</td>\n",
       "      <td>6.190290e+05</td>\n",
       "      <td>619029.000000</td>\n",
       "      <td>6.190290e+05</td>\n",
       "      <td>6.190290e+05</td>\n",
       "      <td>6.190290e+05</td>\n",
       "      <td>619029.000000</td>\n",
       "      <td>619029.000000</td>\n",
       "      <td>619029.000000</td>\n",
       "    </tr>\n",
       "    <tr>\n",
       "      <th>mean</th>\n",
       "      <td>83.023334</td>\n",
       "      <td>83.778419</td>\n",
       "      <td>82.256200</td>\n",
       "      <td>83.043305</td>\n",
       "      <td>4.321892e+06</td>\n",
       "      <td>252.907171</td>\n",
       "      <td>-1.206101e-02</td>\n",
       "      <td>-8.792460e-03</td>\n",
       "      <td>7.672752e-03</td>\n",
       "      <td>-0.027502</td>\n",
       "      <td>0.362065</td>\n",
       "      <td>-0.090355</td>\n",
       "    </tr>\n",
       "    <tr>\n",
       "      <th>std</th>\n",
       "      <td>97.378769</td>\n",
       "      <td>98.207735</td>\n",
       "      <td>96.507634</td>\n",
       "      <td>97.388913</td>\n",
       "      <td>8.693671e+06</td>\n",
       "      <td>145.900892</td>\n",
       "      <td>7.071184e-01</td>\n",
       "      <td>7.069387e-01</td>\n",
       "      <td>7.153658e-01</td>\n",
       "      <td>0.698168</td>\n",
       "      <td>0.515828</td>\n",
       "      <td>0.771147</td>\n",
       "    </tr>\n",
       "    <tr>\n",
       "      <th>min</th>\n",
       "      <td>1.620000</td>\n",
       "      <td>1.690000</td>\n",
       "      <td>1.500000</td>\n",
       "      <td>1.590000</td>\n",
       "      <td>1.010000e+02</td>\n",
       "      <td>0.000000</td>\n",
       "      <td>-1.000000e+00</td>\n",
       "      <td>-1.000000e+00</td>\n",
       "      <td>-9.987165e-01</td>\n",
       "      <td>-0.994869</td>\n",
       "      <td>-0.433884</td>\n",
       "      <td>-0.900969</td>\n",
       "    </tr>\n",
       "    <tr>\n",
       "      <th>25%</th>\n",
       "      <td>40.220000</td>\n",
       "      <td>40.620000</td>\n",
       "      <td>39.830000</td>\n",
       "      <td>40.240800</td>\n",
       "      <td>1.070351e+06</td>\n",
       "      <td>126.000000</td>\n",
       "      <td>-8.660254e-01</td>\n",
       "      <td>-8.660254e-01</td>\n",
       "      <td>-7.247928e-01</td>\n",
       "      <td>-0.758758</td>\n",
       "      <td>0.000000</td>\n",
       "      <td>-0.900969</td>\n",
       "    </tr>\n",
       "    <tr>\n",
       "      <th>50%</th>\n",
       "      <td>62.590000</td>\n",
       "      <td>63.150000</td>\n",
       "      <td>62.020000</td>\n",
       "      <td>62.620000</td>\n",
       "      <td>2.082165e+06</td>\n",
       "      <td>255.000000</td>\n",
       "      <td>-2.449294e-16</td>\n",
       "      <td>-1.836970e-16</td>\n",
       "      <td>-2.449294e-16</td>\n",
       "      <td>-0.050649</td>\n",
       "      <td>0.433884</td>\n",
       "      <td>-0.222521</td>\n",
       "    </tr>\n",
       "    <tr>\n",
       "      <th>75%</th>\n",
       "      <td>94.370000</td>\n",
       "      <td>95.180000</td>\n",
       "      <td>93.540000</td>\n",
       "      <td>94.410000</td>\n",
       "      <td>4.284550e+06</td>\n",
       "      <td>379.000000</td>\n",
       "      <td>5.000000e-01</td>\n",
       "      <td>5.000000e-01</td>\n",
       "      <td>7.247928e-01</td>\n",
       "      <td>0.688967</td>\n",
       "      <td>0.781831</td>\n",
       "      <td>0.623490</td>\n",
       "    </tr>\n",
       "    <tr>\n",
       "      <th>max</th>\n",
       "      <td>2044.000000</td>\n",
       "      <td>2067.990000</td>\n",
       "      <td>2035.110000</td>\n",
       "      <td>2049.000000</td>\n",
       "      <td>6.182376e+08</td>\n",
       "      <td>504.000000</td>\n",
       "      <td>1.000000e+00</td>\n",
       "      <td>1.000000e+00</td>\n",
       "      <td>9.987165e-01</td>\n",
       "      <td>1.000000</td>\n",
       "      <td>0.974928</td>\n",
       "      <td>1.000000</td>\n",
       "    </tr>\n",
       "  </tbody>\n",
       "</table>\n",
       "</div>"
      ],
      "text/plain": [
       "                open           high            low          close  \\\n",
       "count  619029.000000  619029.000000  619029.000000  619029.000000   \n",
       "mean       83.023334      83.778419      82.256200      83.043305   \n",
       "std        97.378769      98.207735      96.507634      97.388913   \n",
       "min         1.620000       1.690000       1.500000       1.590000   \n",
       "25%        40.220000      40.620000      39.830000      40.240800   \n",
       "50%        62.590000      63.150000      62.020000      62.620000   \n",
       "75%        94.370000      95.180000      93.540000      94.410000   \n",
       "max      2044.000000    2067.990000    2035.110000    2049.000000   \n",
       "\n",
       "             volume           Name     month_sin     month_cos       day_sin  \\\n",
       "count  6.190290e+05  619029.000000  6.190290e+05  6.190290e+05  6.190290e+05   \n",
       "mean   4.321892e+06     252.907171 -1.206101e-02 -8.792460e-03  7.672752e-03   \n",
       "std    8.693671e+06     145.900892  7.071184e-01  7.069387e-01  7.153658e-01   \n",
       "min    1.010000e+02       0.000000 -1.000000e+00 -1.000000e+00 -9.987165e-01   \n",
       "25%    1.070351e+06     126.000000 -8.660254e-01 -8.660254e-01 -7.247928e-01   \n",
       "50%    2.082165e+06     255.000000 -2.449294e-16 -1.836970e-16 -2.449294e-16   \n",
       "75%    4.284550e+06     379.000000  5.000000e-01  5.000000e-01  7.247928e-01   \n",
       "max    6.182376e+08     504.000000  1.000000e+00  1.000000e+00  9.987165e-01   \n",
       "\n",
       "             day_cos        dow_sin        dow_cos  \n",
       "count  619029.000000  619029.000000  619029.000000  \n",
       "mean       -0.027502       0.362065      -0.090355  \n",
       "std         0.698168       0.515828       0.771147  \n",
       "min        -0.994869      -0.433884      -0.900969  \n",
       "25%        -0.758758       0.000000      -0.900969  \n",
       "50%        -0.050649       0.433884      -0.222521  \n",
       "75%         0.688967       0.781831       0.623490  \n",
       "max         1.000000       0.974928       1.000000  "
      ]
     },
     "execution_count": 101,
     "metadata": {},
     "output_type": "execute_result"
    }
   ],
   "source": [
    "data.describe()"
   ]
  },
  {
   "cell_type": "code",
   "execution_count": 102,
   "id": "9a2efa47-23b0-4c49-a418-d81ce52b031b",
   "metadata": {},
   "outputs": [
    {
     "data": {
      "text/plain": [
       "<Axes: >"
      ]
     },
     "execution_count": 102,
     "metadata": {},
     "output_type": "execute_result"
    },
    {
     "data": {
      "image/png": "[encoded data removed]",
      "text/plain": [
       "<Figure size 640x480 with 1 Axes>"
      ]
     },
     "metadata": {},
     "output_type": "display_data"
    }
   ],
   "source": [
    "sns.boxplot(data)"
   ]
  },
  {
   "cell_type": "code",
   "execution_count": 103,
   "id": "ac8a69a4-1661-427c-af5b-89b3b8464707",
   "metadata": {},
   "outputs": [],
   "source": [
    "from scipy import stats"
   ]
  },
  {
   "cell_type": "code",
   "execution_count": 104,
   "id": "9a681f84-2255-4a74-8e2d-5d4348929b71",
   "metadata": {},
   "outputs": [],
   "source": [
    "z_score = np.abs(stats.zscore(data['volume']))\n",
    "data = data[(z_score<3)]"
   ]
  },
  {
   "cell_type": "code",
   "execution_count": 105,
   "id": "9f9c0fc5-46ea-42f8-a17e-9f8d853eaef9",
   "metadata": {},
   "outputs": [
    {
     "data": {
      "text/plain": [
       "<Axes: >"
      ]
     },
     "execution_count": 105,
     "metadata": {},
     "output_type": "execute_result"
    },
    {
     "data": {
      "image/png": "[encoded data removed]",
      "text/plain": [
       "<Figure size 640x480 with 1 Axes>"
      ]
     },
     "metadata": {},
     "output_type": "display_data"
    }
   ],
   "source": [
    "sns.boxplot(data)"
   ]
  },
  {
   "cell_type": "code",
   "execution_count": 106,
   "id": "e57450ca-15aa-4743-b645-fd08474df4db",
   "metadata": {},
   "outputs": [
    {
     "data": {
      "text/plain": [
       "(609459, 12)"
      ]
     },
     "execution_count": 106,
     "metadata": {},
     "output_type": "execute_result"
    }
   ],
   "source": [
    "data.shape"
   ]
  },
  {
   "cell_type": "code",
   "execution_count": 107,
   "id": "34c11d30-01b8-4e17-92e5-9df043f715b3",
   "metadata": {},
   "outputs": [],
   "source": [
    "x = data.drop(columns = ['close'])\n",
    "y = data['close']"
   ]
  },
  {
   "cell_type": "code",
   "execution_count": 108,
   "id": "a4c65a05-efff-4023-b547-32b5fe3ec5f7",
   "metadata": {},
   "outputs": [],
   "source": [
    "x_train,x_test,y_train,y_test = train_test_split(x,y,test_size = 0.20,random_state = 2)"
   ]
  },
  {
   "cell_type": "code",
   "execution_count": 109,
   "id": "6bd7bfb5-9a4e-476f-9a6e-4feb23809063",
   "metadata": {},
   "outputs": [
    {
     "data": {
      "image/png": "[encoded data removed]",
      "text/plain": [
       "<Figure size 640x480 with 1 Axes>"
      ]
     },
     "metadata": {},
     "output_type": "display_data"
    }
   ],
   "source": [
    "plt.scatter(x_train['high'],x_train['low'])\n",
    "plt.title('before scaling')\n",
    "plt.show()"
   ]
  },
  {
   "cell_type": "code",
   "execution_count": 110,
   "id": "ce37b78a-fd35-48f7-a4a4-35fdc02fa1fa",
   "metadata": {},
   "outputs": [],
   "source": [
    "from sklearn.linear_model import LinearRegression\n",
    "from sklearn.ensemble import RandomForestRegressor\n",
    "from sklearn.ensemble import GradientBoostingRegressor\n",
    "from xgboost import XGBRegressor"
   ]
  },
  {
   "cell_type": "code",
   "execution_count": null,
   "id": "4f51d853-68dc-4b4d-a38f-d6ab1d92eece",
   "metadata": {},
   "outputs": [],
   "source": [
    "lr = LinearRegression()\n",
    "lr.fit(x_train,y_train)\n",
    "\n",
    "rf = RandomForestRegressor()\n",
    "rf.fit(x_train,y_train)\n",
    "\n",
    "gb = GradientBoostingRegressor()\n",
    "gb.fit(x_train,y_train)\n",
    "\n",
    "xgb = XGBRegressor()\n",
    "xgb.fit(x_train,y_train)"
   ]
  },
  {
   "cell_type": "code",
   "execution_count": null,
   "id": "98ca48ba-234a-4a8a-bfe0-945cf206cf7d",
   "metadata": {},
   "outputs": [],
   "source": [
    "y_pred1 = lr.predict(x_test)\n",
    "y_pred2 = rf.predict(x_test)\n",
    "y_pred3 = gb.predict(x_test)\n",
    "y_pred4 = xgb.predict(x_test)"
   ]
  },
  {
   "cell_type": "code",
   "execution_count": null,
   "id": "9e3d559f-4882-4281-95fe-f7553004c97c",
   "metadata": {},
   "outputs": [],
   "source": [
    "from sklearn.metrics import r2_score"
   ]
  },
  {
   "cell_type": "code",
   "execution_count": null,
   "id": "54747f4c-5005-408f-b099-e0517781f647",
   "metadata": {},
   "outputs": [],
   "source": [
    "score1 = r2_score(y_test,y_pred1)\n",
    "score2 = r2_score(y_test,y_pred2)\n",
    "score3 = r2_score(y_test,y_pred3)\n",
    "score4 = r2_score(y_test,y_pred4)"
   ]
  },
  {
   "cell_type": "code",
   "execution_count": null,
   "id": "55fb3311-bde4-4ccd-855f-1b7b481412d9",
   "metadata": {},
   "outputs": [],
   "source": [
    "print(score1,score2,score3,score4)"
   ]
  },
  {
   "cell_type": "code",
   "execution_count": null,
   "id": "9520a5cb-ce90-4791-9d90-b481a0689923",
   "metadata": {},
   "outputs": [],
   "source": [
    "plt.figure(figsize = (50,20))\n",
    "plt.scatter(y_test, y_pred1)\n",
    "plt.xlabel(\"Actual\")\n",
    "plt.ylabel(\"Predicted\")\n",
    "plt.title(\"Actual vs Predicted\")"
   ]
  },
  {
   "cell_type": "code",
   "execution_count": null,
   "id": "91c64142-2478-4505-8e21-6d4ce066ae83",
   "metadata": {},
   "outputs": [],
   "source": [
    "vel = pd.DataFrame({'model':['lr','rf','gb','xgb'],'r2_score':[score1,score2,score3,score4]})"
   ]
  },
  {
   "cell_type": "code",
   "execution_count": null,
   "id": "6c58ed82-a129-4c6a-96d4-c4e580b2ae9b",
   "metadata": {},
   "outputs": [],
   "source": [
    "vel"
   ]
  },
  {
   "cell_type": "code",
   "execution_count": null,
   "id": "fdd9343f-1cbe-481a-b45d-cd3fdba6e187",
   "metadata": {},
   "outputs": [],
   "source": [
    "sns.barplot(x = vel['model'],y = vel['r2_score'])"
   ]
  },
  {
   "cell_type": "code",
   "execution_count": null,
   "id": "c95e99b8-c43c-4626-aef6-c8fcfd822f75",
   "metadata": {},
   "outputs": [],
   "source": [
    "import joblib"
   ]
  },
  {
   "cell_type": "code",
   "execution_count": null,
   "id": "28b011b7-d0da-4b5d-a993-fa25345db311",
   "metadata": {},
   "outputs": [],
   "source": [
    "lr = LinearRegression()\n",
    "lr = lr.fit(x,y)"
   ]
  },
  {
   "cell_type": "code",
   "execution_count": null,
   "id": "0fca202b-2924-4972-bdc1-982a4374c06d",
   "metadata": {},
   "outputs": [],
   "source": [
    "joblib.dump(lr,'stock_price_prediction')"
   ]
  },
  {
   "cell_type": "code",
   "execution_count": null,
   "id": "d3088e29-203b-4b33-9436-8cee85e0c638",
   "metadata": {},
   "outputs": [],
   "source": [
    "model = joblib.load('stock_price_prediction')"
   ]
  },
  {
   "cell_type": "code",
   "execution_count": null,
   "id": "01a78c56-fe8b-4698-befe-85faaa1e6bb4",
   "metadata": {},
   "outputs": [],
   "source": [
    "new = pd.DataFrame({\n",
    "    'open':15.07,\n",
    "    'high':15.12,\n",
    "    'low':14.63,\n",
    "    'volume':8407500,\n",
    "    'Name':1,\n",
    "    'month_sin':0.866025,\n",
    "    'month_cos':0.5,\n",
    "    'day_sign':0.998717,\n",
    "    'day_cos':-0\n",
    "})"
   ]
  },
  {
   "cell_type": "code",
   "execution_count": null,
   "id": "c16daba6-e42b-43ee-9eb0-1524a2886567",
   "metadata": {},
   "outputs": [],
   "source": [
    "data.head()"
   ]
  },
  {
   "cell_type": "code",
   "execution_count": null,
   "id": "25fc51ff-beb1-4523-95ae-a0faa1582a06",
   "metadata": {},
   "outputs": [],
   "source": []
  },
  {
   "cell_type": "code",
   "execution_count": null,
   "id": "2468690d-81ab-4f97-a3f3-9d20f6102269",
   "metadata": {},
   "outputs": [],
   "source": []
  },
  {
   "cell_type": "code",
   "execution_count": null,
   "id": "fd1150fa-3516-4198-b1bb-265b4717ae35",
   "metadata": {},
   "outputs": [],
   "source": []
  },
  {
   "cell_type": "code",
   "execution_count": null,
   "id": "171e54e5-d918-4e94-9c6d-b08e9e4491e1",
   "metadata": {},
   "outputs": [],
   "source": []
  }
 ],
 "metadata": {
  "kernelspec": {
   "display_name": "Python 3 (ipykernel)",
   "language": "python",
   "name": "python3"
  },
  "language_info": {
   "codemirror_mode": {
    "name": "ipython",
    "version": 3
   },
   "file_extension": ".py",
   "mimetype": "text/x-python",
   "name": "python",
   "nbconvert_exporter": "python",
   "pygments_lexer": "ipython3",
   "version": "3.12.7"
  }
 },
 "nbformat": 4,
 "nbformat_minor": 5
}
